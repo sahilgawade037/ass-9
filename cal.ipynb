{
 "cells": [
  {
   "cell_type": "code",
   "execution_count": null,
   "id": "d77e831a-098c-40ab-983a-ae9215542e43",
   "metadata": {},
   "outputs": [],
   "source": [
    "import tkinter as tk\n",
    "def button_click(value):\n",
    "    current = entry.get()\n",
    "    entry.delete(0, tk.END)\n",
    "    entry.insert(tk.END, current + value) \n",
    "\n",
    "\n",
    "def calculate():\n",
    "    try:\n",
    "        result = eval(entry.get()) \n",
    "        entry.delete(0, tk.END)\n",
    "        entry.insert(tk.END, str(result)) \n",
    "    except Exception as e:\n",
    "        entry.delete(0, tk.END)\n",
    "        entry.insert(tk.END, \"Error\") \n",
    "\n",
    "\n",
    "def clear():\n",
    "    entry.delete(0, tk.END)\n",
    "\n",
    "\n",
    "root = tk.Tk()\n",
    "root.title(\"Simple Calculator\")\n",
    "\n",
    "\n",
    "entry = tk.Entry(root, width=20, font=('Arial', 24), borderwidth=2, relief='solid', justify='right')\n",
    "entry.grid(row=0, column=0, columnspan=4)\n",
    "\n",
    "\n",
    "buttons = [\n",
    "    ('7', 1, 0), ('8', 1, 1), ('9', 1, 2), ('/', 1, 3),\n",
    "    ('4', 2, 0), ('5', 2, 1), ('6', 2, 2), ('*', 2, 3),\n",
    "    ('1', 3, 0), ('2', 3, 1), ('3', 3, 2), ('-', 3, 3),\n",
    "    ('0', 4, 0), ('.', 4, 1), ('=', 4, 2), ('+', 4, 3),\n",
    "]\n",
    "\n",
    "\n",
    "for (text, row, col) in buttons:\n",
    "    if text == '=':\n",
    "        button = tk.Button(root, text=text, width=10, height=3, font=('Arial', 18), command=calculate)\n",
    "    else:\n",
    "        button = tk.Button(root, text=text, width=10, height=3, font=('Arial', 18), command=lambda t=text: button_click(t))\n",
    "    button.grid(row=row, column=col)\n",
    "\n",
    "\n",
    "clear_button = tk.Button(root, text='C', width=10, height=3, font=('Arial', 18), command=clear)\n",
    "clear_button.grid(row=5, column=0, columnspan=4)\n",
    "\n",
    "\n",
    "root.mainloop()"
   ]
  },
  {
   "cell_type": "code",
   "execution_count": null,
   "id": "475ce71f-3592-42e3-b4a0-7b4e4cfeac42",
   "metadata": {},
   "outputs": [],
   "source": []
  }
 ],
 "metadata": {
  "kernelspec": {
   "display_name": "Python 3 (ipykernel)",
   "language": "python",
   "name": "python3"
  },
  "language_info": {
   "codemirror_mode": {
    "name": "ipython",
    "version": 3
   },
   "file_extension": ".py",
   "mimetype": "text/x-python",
   "name": "python",
   "nbconvert_exporter": "python",
   "pygments_lexer": "ipython3",
   "version": "3.12.4"
  }
 },
 "nbformat": 4,
 "nbformat_minor": 5
}
