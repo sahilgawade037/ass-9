{
 "cells": [
  {
   "cell_type": "code",
   "execution_count": 3,
   "id": "07653677-36a2-4c53-b510-fb5c0f5a5f95",
   "metadata": {},
   "outputs": [
    {
     "name": "stdout",
     "output_type": "stream",
     "text": [
      "2\n",
      "4\n",
      "5\n",
      "10\n"
     ]
    }
   ],
   "source": [
    "import numpy as np\n",
    "arr=np.array([2,3,4,6,7,9])\n",
    "print(arr[0])\n",
    "print(arr[2])\n",
    "print(arr[4]-arr[0])\n",
    "print(arr[3]+arr[2])"
   ]
  },
  {
   "cell_type": "code",
   "execution_count": 7,
   "id": "95a7055a-96be-4781-987e-53210875ceba",
   "metadata": {},
   "outputs": [
    {
     "name": "stdout",
     "output_type": "stream",
     "text": [
      "9\n",
      "5\n"
     ]
    }
   ],
   "source": [
    "import numpy as np\n",
    "arr=np.array([[2,3,5],[5,8,9]])\n",
    "print(arr[1][2])\n",
    "print(arr[1][0])"
   ]
  },
  {
   "cell_type": "code",
   "execution_count": 6,
   "id": "56696799-15a6-4d0d-9286-eb9799285ed0",
   "metadata": {},
   "outputs": [
    {
     "name": "stdout",
     "output_type": "stream",
     "text": [
      "Array is of 1D [3 4 7 5]\n",
      "int64\n",
      "[[1 2 4 5]\n",
      " [3 4 5 6]\n",
      " [7 3 4 6]]\n",
      "2\n",
      "[1 2 4 5]\n",
      "4\n"
     ]
    }
   ],
   "source": [
    "import numpy as np\n",
    "arr1=np.array([3,4,7,5])\n",
    "print(\"Array is of 1D\",arr1)\n",
    "arr2=np.array([[1,2,4,5],[3,4,5,6],[7,3,4,6]])\n",
    "print(arr2.dtype)\n",
    "print(arr2)\n",
    "print(arr2.ndim)\n",
    "slice=arr2[0]\n",
    "print(slice)\n",
    "print(arr2[0,2])"
   ]
  },
  {
   "cell_type": "code",
   "execution_count": null,
   "id": "18fdab63-11f3-4b3d-806f-f30a74334bf0",
   "metadata": {},
   "outputs": [],
   "source": []
  }
 ],
 "metadata": {
  "kernelspec": {
   "display_name": "Python 3 (ipykernel)",
   "language": "python",
   "name": "python3"
  },
  "language_info": {
   "codemirror_mode": {
    "name": "ipython",
    "version": 3
   },
   "file_extension": ".py",
   "mimetype": "text/x-python",
   "name": "python",
   "nbconvert_exporter": "python",
   "pygments_lexer": "ipython3",
   "version": "3.12.4"
  }
 },
 "nbformat": 4,
 "nbformat_minor": 5
}
