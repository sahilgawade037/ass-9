{
 "cells": [
  {
   "cell_type": "code",
   "execution_count": 3,
   "id": "1ff724af-e6a4-452c-9e5b-c8abee209784",
   "metadata": {},
   "outputs": [],
   "source": [
    "import tkinter as tk\n",
    "from tkinter import messagebox\n",
    "\n",
    "\n",
    "def register():\n",
    "    username = entry_username.get()\n",
    "    email = entry_email.get()\n",
    "    password = entry_password.get()\n",
    "    \n",
    "   \n",
    "    if username == \"\" or email == \"\" or password == \"\":\n",
    "        messagebox.showwarning(\"Input Error\", \"All fields are required!\")\n",
    "    else:\n",
    "     \n",
    "        messagebox.showinfo(\"Success\", f\"Registration successful!\\nUsername: {username}\\nEmail: {email}\")\n",
    "\n",
    "\n",
    "root = tk.Tk()\n",
    "root.title(\"Registration Form\")\n",
    "\n",
    "\n",
    "label_username = tk.Label(root, text=\"Username\")\n",
    "label_username.pack(pady=5)\n",
    "\n",
    "entry_username = tk.Entry(root)\n",
    "entry_username.pack(pady=5)\n",
    "\n",
    "label_email = tk.Label(root, text=\"Email\")\n",
    "label_email.pack(pady=5)\n",
    "\n",
    "entry_email = tk.Entry(root)\n",
    "entry_email.pack(pady=5)\n",
    "\n",
    "label_password = tk.Label(root, text=\"Password\")\n",
    "label_password.pack(pady=5)\n",
    "\n",
    "entry_password = tk.Entry(root, show=\"*\") \n",
    "entry_password.pack(pady=5)\n",
    "\n",
    "\n",
    "register_button = tk.Button(root, text=\"Register\", command=register)\n",
    "register_button.pack(pady=10)\n",
    "\n",
    "\n",
    "root.mainloop()"
   ]
  },
  {
   "cell_type": "code",
   "execution_count": null,
   "id": "e43070f5-080b-4a10-87c0-1027ad6a346f",
   "metadata": {},
   "outputs": [],
   "source": []
  },
  {
   "cell_type": "code",
   "execution_count": null,
   "id": "bc10700a-ec10-496e-8ae4-cc0d3199d72c",
   "metadata": {},
   "outputs": [],
   "source": []
  }
 ],
 "metadata": {
  "kernelspec": {
   "display_name": "Python 3 (ipykernel)",
   "language": "python",
   "name": "python3"
  },
  "language_info": {
   "codemirror_mode": {
    "name": "ipython",
    "version": 3
   },
   "file_extension": ".py",
   "mimetype": "text/x-python",
   "name": "python",
   "nbconvert_exporter": "python",
   "pygments_lexer": "ipython3",
   "version": "3.12.4"
  }
 },
 "nbformat": 4,
 "nbformat_minor": 5
}
